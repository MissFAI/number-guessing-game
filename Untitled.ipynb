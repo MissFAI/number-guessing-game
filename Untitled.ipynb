{
 "cells": [
  {
   "cell_type": "code",
   "execution_count": 1,
   "id": "b52a3eaf",
   "metadata": {},
   "outputs": [
    {
     "name": "stdout",
     "output_type": "stream",
     "text": [
      "guess a number between 10 to 100 (two-digit numbers): 50\n",
      "your number is big, guess another one: \n",
      "9 guesses remains\n",
      "guess a number between 10 to 50 (two-digit numbers): 30\n",
      "your number is small, guess another one: \n",
      "8 guesses remains\n",
      "guess a number between 30 to 50 (two-digit numbers): 40\n",
      "your number is small, guess another one: \n",
      "7 guesses remains\n",
      "guess a number between 40 to 50 (two-digit numbers): 45\n",
      "your number is small, guess another one: \n",
      "6 guesses remains\n",
      "guess a number between 45 to 50 (two-digit numbers): 48\n",
      "your number is big, guess another one: \n",
      "5 guesses remains\n",
      "guess a number between 45 to 48 (two-digit numbers): 47\n",
      "congradulations! you won!!\n",
      "your score is 4\n"
     ]
    }
   ],
   "source": [
    "import random\n",
    "real_number = random.randint(10 , 100)\n",
    "smallest=10\n",
    "biggest=100\n",
    "remain_guesses = 9\n",
    "for i in range(10):\n",
    "    guess_number = int(input(f\"guess a number between {smallest} to {biggest} (two-digit numbers): \"))\n",
    "    #generating a random number\n",
    "    if real_number == guess_number :\n",
    "        print(\"congradulations! you won!!\")\n",
    "        break\n",
    "    #you win!\n",
    "    elif guess_number<real_number :\n",
    "        print(\"your number is small, guess another one: \")\n",
    "        print(f\"{remain_guesses} guesses remains\")\n",
    "        smallest=guess_number\n",
    "    #your number is small\n",
    "    elif guess_number>real_number :\n",
    "        print(\"your number is big, guess another one: \")\n",
    "        print(f\"{remain_guesses} guesses remains\")\n",
    "        biggest=guess_number\n",
    "    #your number is big\n",
    "    remain_guesses-=1\n",
    "else :\n",
    "     print(f\"sorry, you couldn't guess the correct number...the correct number was {real_number}. but don't be sad... you can try again! lets go! run it again\")\n",
    "print(f\"your score is {remain_guesses}\")"
   ]
  },
  {
   "cell_type": "code",
   "execution_count": null,
   "id": "51a75278",
   "metadata": {},
   "outputs": [],
   "source": []
  }
 ],
 "metadata": {
  "kernelspec": {
   "display_name": "Python 3 (ipykernel)",
   "language": "python",
   "name": "python3"
  },
  "language_info": {
   "codemirror_mode": {
    "name": "ipython",
    "version": 3
   },
   "file_extension": ".py",
   "mimetype": "text/x-python",
   "name": "python",
   "nbconvert_exporter": "python",
   "pygments_lexer": "ipython3",
   "version": "3.9.13"
  }
 },
 "nbformat": 4,
 "nbformat_minor": 5
}
